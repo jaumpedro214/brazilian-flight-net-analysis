{
  "nbformat": 4,
  "nbformat_minor": 0,
  "metadata": {
    "colab": {
      "name": "Construção de base de dados da malha aérea Brasileira.ipynb",
      "provenance": [],
      "collapsed_sections": []
    },
    "kernelspec": {
      "name": "python3",
      "display_name": "Python 3"
    },
    "language_info": {
      "name": "python"
    }
  },
  "cells": [
    {
      "cell_type": "markdown",
      "metadata": {
        "id": "IDPK23PfbLFu"
      },
      "source": [
        "## Introdução"
      ]
    },
    {
      "cell_type": "markdown",
      "metadata": {
        "id": "TQqaDzBzbMZd"
      },
      "source": [
        "Neste notebook, iremos detalhar a construção de um Grafo (Rede) que represente a malha aérea brasileira.\n",
        "\n",
        "Ele será construído com auxílio de dados públicos disponibilizados pela ANAC sobre os voos que aconteceram em aeroportos brasileiros.\n",
        "\n",
        "Partiremos dos dados estruturados (tabelas .csv) e, com auxílio das bibliotecas Pandas e NetworkX, os transformaremos em um grafo.\n",
        "\n",
        "Esta base será utilizada em outro *Jupyter Notebook* onde focaremos em estudar os aspectos matemáticos e estatísticos da rede criada.\n",
        "\n",
        "Este exercício tem intuito puramente acadêmico."
      ]
    },
    {
      "cell_type": "markdown",
      "metadata": {
        "id": "wK3DF1l8pjZZ"
      },
      "source": [
        "## Importando dados dos aeroportos"
      ]
    },
    {
      "cell_type": "markdown",
      "metadata": {
        "id": "l031YpgLpp5X"
      },
      "source": [
        "Dados com todos os aeroportos do mundo (tabela com as coordenadas dos aeroportos)\n",
        "\n",
        "https://datahub.io/core/airport-codes#python\n"
      ]
    },
    {
      "cell_type": "markdown",
      "metadata": {
        "id": "VgWBjBqtpqyo"
      },
      "source": [
        "Dados com todos os vôos com origem ou destino no Brasil (dados públicos da [ANAC](https://www.gov.br/anac/pt-br/assuntos/dados-e-estatisticas/dados-estatisticos) )\n"
      ]
    },
    {
      "cell_type": "code",
      "metadata": {
        "colab": {
          "base_uri": "https://localhost:8080/"
        },
        "id": "wb65bYZyrvk4",
        "outputId": "ef967a83-0aeb-47f2-871a-929fda5601d1"
      },
      "source": [
        "!wget https://datahub.io/core/airport-codes/r/airport-codes.csv"
      ],
      "execution_count": 1,
      "outputs": [
        {
          "output_type": "stream",
          "text": [
            "--2021-08-06 19:12:43--  https://datahub.io/core/airport-codes/r/airport-codes.csv\n",
            "Resolving datahub.io (datahub.io)... 104.21.40.221, 172.67.157.38, 2606:4700:3030::ac43:9d26, ...\n",
            "Connecting to datahub.io (datahub.io)|104.21.40.221|:443... connected.\n",
            "HTTP request sent, awaiting response... 302 Found\n",
            "Location: https://pkgstore.datahub.io/core/airport-codes/airport-codes_csv/data/e07739e49300d125989ee543d5598c4b/airport-codes_csv.csv [following]\n",
            "--2021-08-06 19:12:44--  https://pkgstore.datahub.io/core/airport-codes/airport-codes_csv/data/e07739e49300d125989ee543d5598c4b/airport-codes_csv.csv\n",
            "Resolving pkgstore.datahub.io (pkgstore.datahub.io)... 104.21.40.221, 172.67.157.38, 2606:4700:3030::ac43:9d26, ...\n",
            "Connecting to pkgstore.datahub.io (pkgstore.datahub.io)|104.21.40.221|:443... connected.\n",
            "HTTP request sent, awaiting response... 200 OK\n",
            "Length: 6232459 (5.9M) [text/csv]\n",
            "Saving to: ‘airport-codes.csv’\n",
            "\n",
            "airport-codes.csv   100%[===================>]   5.94M  11.0MB/s    in 0.5s    \n",
            "\n",
            "2021-08-06 19:12:45 (11.0 MB/s) - ‘airport-codes.csv’ saved [6232459/6232459]\n",
            "\n"
          ],
          "name": "stdout"
        }
      ]
    },
    {
      "cell_type": "code",
      "metadata": {
        "colab": {
          "base_uri": "https://localhost:8080/"
        },
        "id": "yjTngb2SpeD6",
        "outputId": "f197214f-fca4-44ed-92e5-09698ea73b4b"
      },
      "source": [
        "!gdown https://drive.google.com/uc?id=13TdnsCxmsFxvDlWV2FJ_81GwKo4IVS0z"
      ],
      "execution_count": 2,
      "outputs": [
        {
          "output_type": "stream",
          "text": [
            "Downloading...\n",
            "From: https://drive.google.com/uc?id=13TdnsCxmsFxvDlWV2FJ_81GwKo4IVS0z\n",
            "To: /content/Dados Estatisticos.csv\n",
            "108MB [00:00, 171MB/s] \n"
          ],
          "name": "stdout"
        }
      ]
    },
    {
      "cell_type": "markdown",
      "metadata": {
        "id": "v9Xre93Rs4On"
      },
      "source": [
        "## Pré processando a base de dados"
      ]
    },
    {
      "cell_type": "markdown",
      "metadata": {
        "id": "BpB256d3vjD2"
      },
      "source": [
        "Nesta etapa, faremos todo o pré processamento necessário para a construção do nosso Grafo."
      ]
    },
    {
      "cell_type": "markdown",
      "metadata": {
        "id": "h79r3SRudxSe"
      },
      "source": [
        "**Importando o conjunto de dados**"
      ]
    },
    {
      "cell_type": "code",
      "metadata": {
        "id": "E-gMZtjAtiN_"
      },
      "source": [
        "import pandas as pd\n",
        "import numpy as np\n",
        "\n",
        "dados_anac = pd.read_csv('https://www.gov.br/anac/pt-br/assuntos/dados-e-estatisticas/dados-estatisticos/arquivos/resumo_anual_2020.csv', sep=';', encoding='latin-1')"
      ],
      "execution_count": 3,
      "outputs": []
    },
    {
      "cell_type": "code",
      "metadata": {
        "id": "BwlW1fuEvyXH",
        "colab": {
          "base_uri": "https://localhost:8080/",
          "height": 538
        },
        "outputId": "5493de55-5012-4109-dd8f-78a7bafdc968"
      },
      "source": [
        "dados_anac.head()"
      ],
      "execution_count": 4,
      "outputs": [
        {
          "output_type": "execute_result",
          "data": {
            "text/html": [
              "<div>\n",
              "<style scoped>\n",
              "    .dataframe tbody tr th:only-of-type {\n",
              "        vertical-align: middle;\n",
              "    }\n",
              "\n",
              "    .dataframe tbody tr th {\n",
              "        vertical-align: top;\n",
              "    }\n",
              "\n",
              "    .dataframe thead th {\n",
              "        text-align: right;\n",
              "    }\n",
              "</style>\n",
              "<table border=\"1\" class=\"dataframe\">\n",
              "  <thead>\n",
              "    <tr style=\"text-align: right;\">\n",
              "      <th></th>\n",
              "      <th>EMPRESA (SIGLA)</th>\n",
              "      <th>EMPRESA (NOME)</th>\n",
              "      <th>EMPRESA (NACIONALIDADE)</th>\n",
              "      <th>ANO</th>\n",
              "      <th>MÊS</th>\n",
              "      <th>AEROPORTO DE ORIGEM (SIGLA)</th>\n",
              "      <th>AEROPORTO DE ORIGEM (NOME)</th>\n",
              "      <th>AEROPORTO DE ORIGEM (UF)</th>\n",
              "      <th>AEROPORTO DE ORIGEM (REGIÃO)</th>\n",
              "      <th>AEROPORTO DE ORIGEM (PAÍS)</th>\n",
              "      <th>AEROPORTO DE ORIGEM (CONTINENTE)</th>\n",
              "      <th>AEROPORTO DE DESTINO (SIGLA)</th>\n",
              "      <th>AEROPORTO DE DESTINO (NOME)</th>\n",
              "      <th>AEROPORTO DE DESTINO (UF)</th>\n",
              "      <th>AEROPORTO DE DESTINO (REGIÃO)</th>\n",
              "      <th>AEROPORTO DE DESTINO (PAÍS)</th>\n",
              "      <th>AEROPORTO DE DESTINO (CONTINENTE)</th>\n",
              "      <th>NATUREZA</th>\n",
              "      <th>GRUPO DE VOO</th>\n",
              "      <th>PASSAGEIROS PAGOS</th>\n",
              "      <th>PASSAGEIROS GRÁTIS</th>\n",
              "      <th>CARGA PAGA (KG)</th>\n",
              "      <th>CARGA GRÁTIS (KG)</th>\n",
              "      <th>CORREIO (KG)</th>\n",
              "      <th>ASK</th>\n",
              "      <th>RPK</th>\n",
              "      <th>ATK</th>\n",
              "      <th>RTK</th>\n",
              "      <th>COMBUSTÍVEL (LITROS)</th>\n",
              "      <th>DISTÂNCIA VOADA (KM)</th>\n",
              "      <th>DECOLAGENS</th>\n",
              "      <th>CARGA PAGA KM</th>\n",
              "      <th>CARGA GRATIS KM</th>\n",
              "      <th>CORREIO KM</th>\n",
              "      <th>ASSENTOS</th>\n",
              "      <th>PAYLOAD</th>\n",
              "      <th>HORAS VOADAS</th>\n",
              "      <th>BAGAGEM (KG)</th>\n",
              "    </tr>\n",
              "  </thead>\n",
              "  <tbody>\n",
              "    <tr>\n",
              "      <th>0</th>\n",
              "      <td>AAL</td>\n",
              "      <td>AMERICAN AIRLINES, INC.</td>\n",
              "      <td>ESTRANGEIRA</td>\n",
              "      <td>2020</td>\n",
              "      <td>1</td>\n",
              "      <td>KDFW</td>\n",
              "      <td>DALLAS &amp; FORT WORTH, TEXAS</td>\n",
              "      <td>NaN</td>\n",
              "      <td>NaN</td>\n",
              "      <td>ESTADOS UNIDOS DA AMÉRICA</td>\n",
              "      <td>AMÉRICA DO NORTE</td>\n",
              "      <td>SBGL</td>\n",
              "      <td>RIO DE JANEIRO</td>\n",
              "      <td>RJ</td>\n",
              "      <td>SUDESTE</td>\n",
              "      <td>BRASIL</td>\n",
              "      <td>AMÉRICA DO SUL</td>\n",
              "      <td>INTERNACIONAL</td>\n",
              "      <td>REGULAR</td>\n",
              "      <td>0.0</td>\n",
              "      <td>0.0</td>\n",
              "      <td>0.0</td>\n",
              "      <td>0.0</td>\n",
              "      <td>0.0</td>\n",
              "      <td>2559380.0</td>\n",
              "      <td>2071070.0</td>\n",
              "      <td>463045.0</td>\n",
              "      <td>258934.0</td>\n",
              "      <td>0.0</td>\n",
              "      <td>8419.0</td>\n",
              "      <td>1.0</td>\n",
              "      <td>4.875440e+07</td>\n",
              "      <td>0.0</td>\n",
              "      <td>23783700.0</td>\n",
              "      <td>304.0</td>\n",
              "      <td>55000.0</td>\n",
              "      <td>10,783</td>\n",
              "      <td>0.0</td>\n",
              "    </tr>\n",
              "    <tr>\n",
              "      <th>1</th>\n",
              "      <td>AAL</td>\n",
              "      <td>AMERICAN AIRLINES, INC.</td>\n",
              "      <td>ESTRANGEIRA</td>\n",
              "      <td>2020</td>\n",
              "      <td>1</td>\n",
              "      <td>KDFW</td>\n",
              "      <td>DALLAS &amp; FORT WORTH, TEXAS</td>\n",
              "      <td>NaN</td>\n",
              "      <td>NaN</td>\n",
              "      <td>ESTADOS UNIDOS DA AMÉRICA</td>\n",
              "      <td>AMÉRICA DO NORTE</td>\n",
              "      <td>SBGR</td>\n",
              "      <td>GUARULHOS</td>\n",
              "      <td>SP</td>\n",
              "      <td>SUDESTE</td>\n",
              "      <td>BRASIL</td>\n",
              "      <td>AMÉRICA DO SUL</td>\n",
              "      <td>INTERNACIONAL</td>\n",
              "      <td>REGULAR</td>\n",
              "      <td>7379.0</td>\n",
              "      <td>401.0</td>\n",
              "      <td>267245.0</td>\n",
              "      <td>0.0</td>\n",
              "      <td>61649.0</td>\n",
              "      <td>72679100.0</td>\n",
              "      <td>58804500.0</td>\n",
              "      <td>13149200.0</td>\n",
              "      <td>7932760.0</td>\n",
              "      <td>0.0</td>\n",
              "      <td>239076.0</td>\n",
              "      <td>29.0</td>\n",
              "      <td>2.155430e+09</td>\n",
              "      <td>0.0</td>\n",
              "      <td>484945000.0</td>\n",
              "      <td>8816.0</td>\n",
              "      <td>1595000.0</td>\n",
              "      <td>293,867</td>\n",
              "      <td>0.0</td>\n",
              "    </tr>\n",
              "    <tr>\n",
              "      <th>2</th>\n",
              "      <td>AAL</td>\n",
              "      <td>AMERICAN AIRLINES, INC.</td>\n",
              "      <td>ESTRANGEIRA</td>\n",
              "      <td>2020</td>\n",
              "      <td>1</td>\n",
              "      <td>KJFK</td>\n",
              "      <td>NEW YORK, NEW YORK</td>\n",
              "      <td>NaN</td>\n",
              "      <td>NaN</td>\n",
              "      <td>ESTADOS UNIDOS DA AMÉRICA</td>\n",
              "      <td>AMÉRICA DO NORTE</td>\n",
              "      <td>SBGL</td>\n",
              "      <td>RIO DE JANEIRO</td>\n",
              "      <td>RJ</td>\n",
              "      <td>SUDESTE</td>\n",
              "      <td>BRASIL</td>\n",
              "      <td>AMÉRICA DO SUL</td>\n",
              "      <td>INTERNACIONAL</td>\n",
              "      <td>REGULAR</td>\n",
              "      <td>5978.0</td>\n",
              "      <td>365.0</td>\n",
              "      <td>57303.0</td>\n",
              "      <td>0.0</td>\n",
              "      <td>35.0</td>\n",
              "      <td>63068600.0</td>\n",
              "      <td>46204000.0</td>\n",
              "      <td>10434200.0</td>\n",
              "      <td>4601510.0</td>\n",
              "      <td>0.0</td>\n",
              "      <td>231870.0</td>\n",
              "      <td>30.0</td>\n",
              "      <td>4.428950e+08</td>\n",
              "      <td>0.0</td>\n",
              "      <td>270515.0</td>\n",
              "      <td>8160.0</td>\n",
              "      <td>1350000.0</td>\n",
              "      <td>280,783</td>\n",
              "      <td>0.0</td>\n",
              "    </tr>\n",
              "    <tr>\n",
              "      <th>3</th>\n",
              "      <td>AAL</td>\n",
              "      <td>AMERICAN AIRLINES, INC.</td>\n",
              "      <td>ESTRANGEIRA</td>\n",
              "      <td>2020</td>\n",
              "      <td>1</td>\n",
              "      <td>KJFK</td>\n",
              "      <td>NEW YORK, NEW YORK</td>\n",
              "      <td>NaN</td>\n",
              "      <td>NaN</td>\n",
              "      <td>ESTADOS UNIDOS DA AMÉRICA</td>\n",
              "      <td>AMÉRICA DO NORTE</td>\n",
              "      <td>SBGR</td>\n",
              "      <td>GUARULHOS</td>\n",
              "      <td>SP</td>\n",
              "      <td>SUDESTE</td>\n",
              "      <td>BRASIL</td>\n",
              "      <td>AMÉRICA DO SUL</td>\n",
              "      <td>INTERNACIONAL</td>\n",
              "      <td>REGULAR</td>\n",
              "      <td>7472.0</td>\n",
              "      <td>299.0</td>\n",
              "      <td>267201.0</td>\n",
              "      <td>0.0</td>\n",
              "      <td>5353.0</td>\n",
              "      <td>72225500.0</td>\n",
              "      <td>57265400.0</td>\n",
              "      <td>13067100.0</td>\n",
              "      <td>7242730.0</td>\n",
              "      <td>0.0</td>\n",
              "      <td>237584.0</td>\n",
              "      <td>31.0</td>\n",
              "      <td>2.047830e+09</td>\n",
              "      <td>0.0</td>\n",
              "      <td>41025400.0</td>\n",
              "      <td>9424.0</td>\n",
              "      <td>1705000.0</td>\n",
              "      <td>285,766</td>\n",
              "      <td>0.0</td>\n",
              "    </tr>\n",
              "    <tr>\n",
              "      <th>4</th>\n",
              "      <td>AAL</td>\n",
              "      <td>AMERICAN AIRLINES, INC.</td>\n",
              "      <td>ESTRANGEIRA</td>\n",
              "      <td>2020</td>\n",
              "      <td>1</td>\n",
              "      <td>KLAX</td>\n",
              "      <td>LOS ANGELES, CALIFORNIA</td>\n",
              "      <td>NaN</td>\n",
              "      <td>NaN</td>\n",
              "      <td>ESTADOS UNIDOS DA AMÉRICA</td>\n",
              "      <td>AMÉRICA DO NORTE</td>\n",
              "      <td>SBGR</td>\n",
              "      <td>GUARULHOS</td>\n",
              "      <td>SP</td>\n",
              "      <td>SUDESTE</td>\n",
              "      <td>BRASIL</td>\n",
              "      <td>AMÉRICA DO SUL</td>\n",
              "      <td>INTERNACIONAL</td>\n",
              "      <td>REGULAR</td>\n",
              "      <td>4076.0</td>\n",
              "      <td>99.0</td>\n",
              "      <td>86539.0</td>\n",
              "      <td>0.0</td>\n",
              "      <td>39018.0</td>\n",
              "      <td>45071900.0</td>\n",
              "      <td>40429800.0</td>\n",
              "      <td>7141680.0</td>\n",
              "      <td>4884080.0</td>\n",
              "      <td>0.0</td>\n",
              "      <td>158704.0</td>\n",
              "      <td>16.0</td>\n",
              "      <td>8.583800e+08</td>\n",
              "      <td>0.0</td>\n",
              "      <td>387020000.0</td>\n",
              "      <td>4544.0</td>\n",
              "      <td>720000.0</td>\n",
              "      <td>191,583</td>\n",
              "      <td>0.0</td>\n",
              "    </tr>\n",
              "  </tbody>\n",
              "</table>\n",
              "</div>"
            ],
            "text/plain": [
              "  EMPRESA (SIGLA)           EMPRESA (NOME)  ... HORAS VOADAS  BAGAGEM (KG)\n",
              "0             AAL  AMERICAN AIRLINES, INC.  ...       10,783           0.0\n",
              "1             AAL  AMERICAN AIRLINES, INC.  ...      293,867           0.0\n",
              "2             AAL  AMERICAN AIRLINES, INC.  ...      280,783           0.0\n",
              "3             AAL  AMERICAN AIRLINES, INC.  ...      285,766           0.0\n",
              "4             AAL  AMERICAN AIRLINES, INC.  ...      191,583           0.0\n",
              "\n",
              "[5 rows x 38 columns]"
            ]
          },
          "metadata": {
            "tags": []
          },
          "execution_count": 4
        }
      ]
    },
    {
      "cell_type": "code",
      "metadata": {
        "id": "rJ4yNvopv0HH",
        "colab": {
          "base_uri": "https://localhost:8080/"
        },
        "outputId": "9c68145f-e43e-40d0-d4ca-f6692ec9edc3"
      },
      "source": [
        "print( f\" Tamanho do dataset {len(dados_anac)}\" )"
      ],
      "execution_count": 5,
      "outputs": [
        {
          "output_type": "stream",
          "text": [
            " Tamanho do dataset 26735\n"
          ],
          "name": "stdout"
        }
      ]
    },
    {
      "cell_type": "markdown",
      "metadata": {
        "id": "5mldTGzovKOf"
      },
      "source": [
        "**Visualizando as colunas e seus tipos**"
      ]
    },
    {
      "cell_type": "code",
      "metadata": {
        "id": "qpLIilyitvj3",
        "colab": {
          "base_uri": "https://localhost:8080/"
        },
        "outputId": "e6cf8e38-f34f-4160-c3a5-c5e60cbd6935"
      },
      "source": [
        "dados_anac.dtypes"
      ],
      "execution_count": 6,
      "outputs": [
        {
          "output_type": "execute_result",
          "data": {
            "text/plain": [
              "EMPRESA (SIGLA)                       object\n",
              "EMPRESA (NOME)                        object\n",
              "EMPRESA (NACIONALIDADE)               object\n",
              "ANO                                    int64\n",
              "MÊS                                    int64\n",
              "AEROPORTO DE ORIGEM (SIGLA)           object\n",
              "AEROPORTO DE ORIGEM (NOME)            object\n",
              "AEROPORTO DE ORIGEM (UF)              object\n",
              "AEROPORTO DE ORIGEM (REGIÃO)          object\n",
              "AEROPORTO DE ORIGEM (PAÍS)            object\n",
              "AEROPORTO DE ORIGEM (CONTINENTE)      object\n",
              "AEROPORTO DE DESTINO (SIGLA)          object\n",
              "AEROPORTO DE DESTINO (NOME)           object\n",
              "AEROPORTO DE DESTINO (UF)             object\n",
              "AEROPORTO DE DESTINO (REGIÃO)         object\n",
              "AEROPORTO DE DESTINO (PAÍS)           object\n",
              "AEROPORTO DE DESTINO (CONTINENTE)     object\n",
              "NATUREZA                              object\n",
              "GRUPO DE VOO                          object\n",
              "PASSAGEIROS PAGOS                    float64\n",
              "PASSAGEIROS GRÁTIS                   float64\n",
              "CARGA PAGA (KG)                      float64\n",
              "CARGA GRÁTIS (KG)                    float64\n",
              "CORREIO (KG)                         float64\n",
              "ASK                                  float64\n",
              "RPK                                  float64\n",
              "ATK                                  float64\n",
              "RTK                                  float64\n",
              "COMBUSTÍVEL (LITROS)                 float64\n",
              "DISTÂNCIA VOADA (KM)                 float64\n",
              "DECOLAGENS                           float64\n",
              "CARGA PAGA KM                        float64\n",
              "CARGA GRATIS KM                      float64\n",
              "CORREIO KM                           float64\n",
              "ASSENTOS                             float64\n",
              "PAYLOAD                              float64\n",
              "HORAS VOADAS                          object\n",
              "BAGAGEM (KG)                         float64\n",
              "dtype: object"
            ]
          },
          "metadata": {
            "tags": []
          },
          "execution_count": 6
        }
      ]
    },
    {
      "cell_type": "markdown",
      "metadata": {
        "id": "V5x9NSP4vbxu"
      },
      "source": [
        "*As colunas do tipo 'object' referem-se a 'strings'*"
      ]
    },
    {
      "cell_type": "markdown",
      "metadata": {
        "id": "yh0D3aNNwBWu"
      },
      "source": [
        "**Selecionando os voos puramente brasileiros**"
      ]
    },
    {
      "cell_type": "code",
      "metadata": {
        "id": "0R68WP-HvCQv"
      },
      "source": [
        "dados_anac_br = dados_anac.query( \"`AEROPORTO DE ORIGEM (PAÍS)` == 'BRASIL' and `AEROPORTO DE DESTINO (PAÍS)` == 'BRASIL'\" )"
      ],
      "execution_count": 7,
      "outputs": []
    },
    {
      "cell_type": "markdown",
      "metadata": {
        "id": "mcc5PBfrd4hk"
      },
      "source": [
        "*Validando a seleção*"
      ]
    },
    {
      "cell_type": "code",
      "metadata": {
        "id": "9X62Y0LMwQPO",
        "colab": {
          "base_uri": "https://localhost:8080/",
          "height": 175
        },
        "outputId": "3f66fc16-8523-44be-86e3-fdeb8084431a"
      },
      "source": [
        "dados_anac_br[ [\"AEROPORTO DE ORIGEM (PAÍS)\", \"AEROPORTO DE DESTINO (PAÍS)\"] ].describe()"
      ],
      "execution_count": 8,
      "outputs": [
        {
          "output_type": "execute_result",
          "data": {
            "text/html": [
              "<div>\n",
              "<style scoped>\n",
              "    .dataframe tbody tr th:only-of-type {\n",
              "        vertical-align: middle;\n",
              "    }\n",
              "\n",
              "    .dataframe tbody tr th {\n",
              "        vertical-align: top;\n",
              "    }\n",
              "\n",
              "    .dataframe thead th {\n",
              "        text-align: right;\n",
              "    }\n",
              "</style>\n",
              "<table border=\"1\" class=\"dataframe\">\n",
              "  <thead>\n",
              "    <tr style=\"text-align: right;\">\n",
              "      <th></th>\n",
              "      <th>AEROPORTO DE ORIGEM (PAÍS)</th>\n",
              "      <th>AEROPORTO DE DESTINO (PAÍS)</th>\n",
              "    </tr>\n",
              "  </thead>\n",
              "  <tbody>\n",
              "    <tr>\n",
              "      <th>count</th>\n",
              "      <td>18276</td>\n",
              "      <td>18276</td>\n",
              "    </tr>\n",
              "    <tr>\n",
              "      <th>unique</th>\n",
              "      <td>1</td>\n",
              "      <td>1</td>\n",
              "    </tr>\n",
              "    <tr>\n",
              "      <th>top</th>\n",
              "      <td>BRASIL</td>\n",
              "      <td>BRASIL</td>\n",
              "    </tr>\n",
              "    <tr>\n",
              "      <th>freq</th>\n",
              "      <td>18276</td>\n",
              "      <td>18276</td>\n",
              "    </tr>\n",
              "  </tbody>\n",
              "</table>\n",
              "</div>"
            ],
            "text/plain": [
              "       AEROPORTO DE ORIGEM (PAÍS) AEROPORTO DE DESTINO (PAÍS)\n",
              "count                       18276                       18276\n",
              "unique                          1                           1\n",
              "top                        BRASIL                      BRASIL\n",
              "freq                        18276                       18276"
            ]
          },
          "metadata": {
            "tags": []
          },
          "execution_count": 8
        }
      ]
    },
    {
      "cell_type": "markdown",
      "metadata": {
        "id": "o4IbJQnd1ece"
      },
      "source": [
        "## Agregando por par ORIGEM-DESTINO"
      ]
    },
    {
      "cell_type": "markdown",
      "metadata": {
        "id": "EPQmkfyk1sR2"
      },
      "source": [
        "Nesta etapa, construimos os pares únicos de aeroportos conectados por algum voo.\n",
        "\n",
        "Os aeroportos serão os **nós** da nossa **rede**.\n",
        "Dois aeroportos são conectados se existe ao menos um voo que os ligue.\n",
        "\n",
        "Os pares finais vão conter:\n",
        "  - Sigla, UF, Região e coordenadas de cada aeroporto\n",
        "  - Total de voos entre eles\n",
        "  - Total de voos feito por empresas brasileiras\n",
        "  - Total de voos de natureza 'DOMÉSTICA'\n",
        "  - Total de voos dos tipos *Improdutivo*, *Regulares* e *Não Regulares*  \n",
        "  - Distância entre origem e destino"
      ]
    },
    {
      "cell_type": "code",
      "metadata": {
        "id": "ehoMrwxn1rk1"
      },
      "source": [
        "COLUMNS = ['AEROPORTO DE ORIGEM (SIGLA)',\n",
        "           'AEROPORTO DE ORIGEM (UF)',\n",
        "           'AEROPORTO DE ORIGEM (REGIÃO)',\n",
        "           'AEROPORTO DE DESTINO (SIGLA)',\n",
        "           'AEROPORTO DE DESTINO (UF)',\n",
        "           'AEROPORTO DE DESTINO (REGIÃO)',\n",
        "           'GRUPO DE VOO',\n",
        "           'EMPRESA (NACIONALIDADE)',\n",
        "           'DISTÂNCIA VOADA (KM)',\n",
        "           'NATUREZA'\n",
        "           ]\n",
        "\n",
        "dados_anac_br = dados_anac_br[ COLUMNS ]"
      ],
      "execution_count": 9,
      "outputs": []
    },
    {
      "cell_type": "markdown",
      "metadata": {
        "id": "lJMa5PxPA5UB"
      },
      "source": [
        "Criando variáveis auxiliares"
      ]
    },
    {
      "cell_type": "code",
      "metadata": {
        "id": "6C3twS23A7NR"
      },
      "source": [
        "dados_anac_br['VOO REGULAR'] = dados_anac_br['GRUPO DE VOO'] == 'REGULAR'\n",
        "dados_anac_br['VOO NÃO REGULAR'] = dados_anac_br['GRUPO DE VOO'] == 'NÃO REGULAR'\n",
        "dados_anac_br['IMPRODUTIVO'] = dados_anac_br['GRUPO DE VOO'] == 'IMPRODUTIVO'\n",
        "dados_anac_br['EMPRESA NACIONAL'] = dados_anac_br['EMPRESA (NACIONALIDADE)'] == 'BRASILEIRA'\n",
        "dados_anac_br['NATUREZA DOMÉSTICA'] =  dados_anac_br['NATUREZA'] == 'DOMÉSTICA'\n",
        "\n",
        "dados_anac_br = dados_anac_br.drop( ['GRUPO DE VOO', 'EMPRESA (NACIONALIDADE)', 'NATUREZA'], axis=1 )"
      ],
      "execution_count": 10,
      "outputs": []
    },
    {
      "cell_type": "code",
      "metadata": {
        "id": "bDASEB_IBaJa"
      },
      "source": [
        "dados_gb = dados_anac_br.groupby( by=['AEROPORTO DE ORIGEM (SIGLA)', 'AEROPORTO DE DESTINO (SIGLA)'] )"
      ],
      "execution_count": 11,
      "outputs": []
    },
    {
      "cell_type": "code",
      "metadata": {
        "id": "C51fght9DZGq"
      },
      "source": [
        "dados_final = dados_gb[ ['AEROPORTO DE ORIGEM (UF)',\n",
        "                         'AEROPORTO DE ORIGEM (REGIÃO)',\n",
        "                         'AEROPORTO DE DESTINO (UF)',\n",
        "                         'AEROPORTO DE DESTINO (REGIÃO)'] ].max()\n",
        "dados_final[ 'DISTÂNCIA VOADA (KM)' ] = dados_gb[ 'DISTÂNCIA VOADA (KM)' ].max()\n",
        "dados_final[ 'VOO REGULAR' ] = dados_gb[ 'VOO REGULAR' ].sum()\n",
        "dados_final[ 'VOO NÃO REGULAR' ] = dados_gb[ 'VOO NÃO REGULAR' ].sum()\n",
        "dados_final[ 'IMPRODUTIVO' ] = dados_gb[ 'IMPRODUTIVO' ].sum()\n",
        "dados_final[ 'EMPRESA NACIONAL' ] = dados_gb[ 'EMPRESA NACIONAL' ].sum()\n",
        "dados_final[ 'NATUREZA DOMÉSTICA' ] = dados_gb[ 'NATUREZA DOMÉSTICA' ].sum()\n",
        "dados_final[ 'VOOS' ] = dados_final[ 'IMPRODUTIVO' ] + dados_final[ 'VOO REGULAR' ] + dados_final[ 'VOO NÃO REGULAR' ]"
      ],
      "execution_count": 12,
      "outputs": []
    },
    {
      "cell_type": "code",
      "metadata": {
        "id": "xE5Fu7UFDlrB"
      },
      "source": [
        "dados_final = dados_final.reset_index()"
      ],
      "execution_count": 13,
      "outputs": []
    },
    {
      "cell_type": "code",
      "metadata": {
        "id": "Xgfxc3qFL_BX",
        "colab": {
          "base_uri": "https://localhost:8080/",
          "height": 278
        },
        "outputId": "df4647a4-545d-4ce9-a4fd-3a533c123c57"
      },
      "source": [
        "dados_final.head()"
      ],
      "execution_count": 14,
      "outputs": [
        {
          "output_type": "execute_result",
          "data": {
            "text/html": [
              "<div>\n",
              "<style scoped>\n",
              "    .dataframe tbody tr th:only-of-type {\n",
              "        vertical-align: middle;\n",
              "    }\n",
              "\n",
              "    .dataframe tbody tr th {\n",
              "        vertical-align: top;\n",
              "    }\n",
              "\n",
              "    .dataframe thead th {\n",
              "        text-align: right;\n",
              "    }\n",
              "</style>\n",
              "<table border=\"1\" class=\"dataframe\">\n",
              "  <thead>\n",
              "    <tr style=\"text-align: right;\">\n",
              "      <th></th>\n",
              "      <th>AEROPORTO DE ORIGEM (SIGLA)</th>\n",
              "      <th>AEROPORTO DE DESTINO (SIGLA)</th>\n",
              "      <th>AEROPORTO DE ORIGEM (UF)</th>\n",
              "      <th>AEROPORTO DE ORIGEM (REGIÃO)</th>\n",
              "      <th>AEROPORTO DE DESTINO (UF)</th>\n",
              "      <th>AEROPORTO DE DESTINO (REGIÃO)</th>\n",
              "      <th>DISTÂNCIA VOADA (KM)</th>\n",
              "      <th>VOO REGULAR</th>\n",
              "      <th>VOO NÃO REGULAR</th>\n",
              "      <th>IMPRODUTIVO</th>\n",
              "      <th>EMPRESA NACIONAL</th>\n",
              "      <th>NATUREZA DOMÉSTICA</th>\n",
              "      <th>VOOS</th>\n",
              "    </tr>\n",
              "  </thead>\n",
              "  <tbody>\n",
              "    <tr>\n",
              "      <th>0</th>\n",
              "      <td>SBAC</td>\n",
              "      <td>SBFZ</td>\n",
              "      <td>CE</td>\n",
              "      <td>NORDESTE</td>\n",
              "      <td>CE</td>\n",
              "      <td>NORDESTE</td>\n",
              "      <td>720.0</td>\n",
              "      <td>2</td>\n",
              "      <td>0</td>\n",
              "      <td>0</td>\n",
              "      <td>2</td>\n",
              "      <td>2</td>\n",
              "      <td>2</td>\n",
              "    </tr>\n",
              "    <tr>\n",
              "      <th>1</th>\n",
              "      <td>SBAC</td>\n",
              "      <td>SBKP</td>\n",
              "      <td>CE</td>\n",
              "      <td>NORDESTE</td>\n",
              "      <td>SP</td>\n",
              "      <td>SUDESTE</td>\n",
              "      <td>11410.0</td>\n",
              "      <td>1</td>\n",
              "      <td>0</td>\n",
              "      <td>0</td>\n",
              "      <td>1</td>\n",
              "      <td>1</td>\n",
              "      <td>1</td>\n",
              "    </tr>\n",
              "    <tr>\n",
              "      <th>2</th>\n",
              "      <td>SBAE</td>\n",
              "      <td>SBAE</td>\n",
              "      <td>SP</td>\n",
              "      <td>SUDESTE</td>\n",
              "      <td>SP</td>\n",
              "      <td>SUDESTE</td>\n",
              "      <td>0.0</td>\n",
              "      <td>0</td>\n",
              "      <td>0</td>\n",
              "      <td>2</td>\n",
              "      <td>2</td>\n",
              "      <td>2</td>\n",
              "      <td>2</td>\n",
              "    </tr>\n",
              "    <tr>\n",
              "      <th>3</th>\n",
              "      <td>SBAE</td>\n",
              "      <td>SBBU</td>\n",
              "      <td>SP</td>\n",
              "      <td>SUDESTE</td>\n",
              "      <td>SP</td>\n",
              "      <td>SUDESTE</td>\n",
              "      <td>21.0</td>\n",
              "      <td>0</td>\n",
              "      <td>1</td>\n",
              "      <td>0</td>\n",
              "      <td>1</td>\n",
              "      <td>1</td>\n",
              "      <td>1</td>\n",
              "    </tr>\n",
              "    <tr>\n",
              "      <th>4</th>\n",
              "      <td>SBAE</td>\n",
              "      <td>SBGL</td>\n",
              "      <td>SP</td>\n",
              "      <td>SUDESTE</td>\n",
              "      <td>RJ</td>\n",
              "      <td>SUDESTE</td>\n",
              "      <td>602.0</td>\n",
              "      <td>1</td>\n",
              "      <td>0</td>\n",
              "      <td>0</td>\n",
              "      <td>1</td>\n",
              "      <td>1</td>\n",
              "      <td>1</td>\n",
              "    </tr>\n",
              "  </tbody>\n",
              "</table>\n",
              "</div>"
            ],
            "text/plain": [
              "  AEROPORTO DE ORIGEM (SIGLA)  ... VOOS\n",
              "0                        SBAC  ...    2\n",
              "1                        SBAC  ...    1\n",
              "2                        SBAE  ...    2\n",
              "3                        SBAE  ...    1\n",
              "4                        SBAE  ...    1\n",
              "\n",
              "[5 rows x 13 columns]"
            ]
          },
          "metadata": {
            "tags": []
          },
          "execution_count": 14
        }
      ]
    },
    {
      "cell_type": "markdown",
      "metadata": {
        "id": "OvRtmXnQJNLg"
      },
      "source": [
        "**Adicionando informações de coordenadas**"
      ]
    },
    {
      "cell_type": "code",
      "metadata": {
        "id": "HvqY9krXJho6"
      },
      "source": [
        "dados_coord = pd.read_csv('airport-codes.csv')"
      ],
      "execution_count": 16,
      "outputs": []
    },
    {
      "cell_type": "code",
      "metadata": {
        "id": "B2Y0ucKWLwfI",
        "colab": {
          "base_uri": "https://localhost:8080/"
        },
        "outputId": "43029add-9130-4045-ab79-486185fc1ddb"
      },
      "source": [
        "dados_coord.columns"
      ],
      "execution_count": 17,
      "outputs": [
        {
          "output_type": "execute_result",
          "data": {
            "text/plain": [
              "Index(['ident', 'type', 'name', 'elevation_ft', 'continent', 'iso_country',\n",
              "       'iso_region', 'municipality', 'gps_code', 'iata_code', 'local_code',\n",
              "       'coordinates'],\n",
              "      dtype='object')"
            ]
          },
          "metadata": {
            "tags": []
          },
          "execution_count": 17
        }
      ]
    },
    {
      "cell_type": "code",
      "metadata": {
        "id": "eiPRKTCJKr1I"
      },
      "source": [
        "dados_coord = dados_coord[ ['gps_code', 'coordinates'] ]\n",
        "\n",
        "dados_final = dados_final.merge( dados_coord, right_on = 'gps_code', left_on='AEROPORTO DE ORIGEM (SIGLA)' )\n",
        "dados_final = dados_final.rename( columns={'coordinates':'COORDENADAS_ORIGEM'} )\n",
        "\n",
        "dados_final = dados_final.merge( dados_coord, right_on = 'gps_code', left_on='AEROPORTO DE DESTINO (SIGLA)' )\n",
        "dados_final = dados_final.rename( columns={'coordinates':'COORDENADAS_DESTINO'} )"
      ],
      "execution_count": 18,
      "outputs": []
    },
    {
      "cell_type": "code",
      "metadata": {
        "colab": {
          "base_uri": "https://localhost:8080/",
          "height": 669
        },
        "id": "uxyDnd8d3p6A",
        "outputId": "4eb61615-0c93-4104-bfca-6bec066f492a"
      },
      "source": [
        "dados_final"
      ],
      "execution_count": 19,
      "outputs": [
        {
          "output_type": "execute_result",
          "data": {
            "text/html": [
              "<div>\n",
              "<style scoped>\n",
              "    .dataframe tbody tr th:only-of-type {\n",
              "        vertical-align: middle;\n",
              "    }\n",
              "\n",
              "    .dataframe tbody tr th {\n",
              "        vertical-align: top;\n",
              "    }\n",
              "\n",
              "    .dataframe thead th {\n",
              "        text-align: right;\n",
              "    }\n",
              "</style>\n",
              "<table border=\"1\" class=\"dataframe\">\n",
              "  <thead>\n",
              "    <tr style=\"text-align: right;\">\n",
              "      <th></th>\n",
              "      <th>AEROPORTO DE ORIGEM (SIGLA)</th>\n",
              "      <th>AEROPORTO DE DESTINO (SIGLA)</th>\n",
              "      <th>AEROPORTO DE ORIGEM (UF)</th>\n",
              "      <th>AEROPORTO DE ORIGEM (REGIÃO)</th>\n",
              "      <th>AEROPORTO DE DESTINO (UF)</th>\n",
              "      <th>AEROPORTO DE DESTINO (REGIÃO)</th>\n",
              "      <th>DISTÂNCIA VOADA (KM)</th>\n",
              "      <th>VOO REGULAR</th>\n",
              "      <th>VOO NÃO REGULAR</th>\n",
              "      <th>IMPRODUTIVO</th>\n",
              "      <th>EMPRESA NACIONAL</th>\n",
              "      <th>NATUREZA DOMÉSTICA</th>\n",
              "      <th>VOOS</th>\n",
              "      <th>gps_code_x</th>\n",
              "      <th>COORDENADAS_ORIGEM</th>\n",
              "      <th>gps_code_y</th>\n",
              "      <th>COORDENADAS_DESTINO</th>\n",
              "    </tr>\n",
              "  </thead>\n",
              "  <tbody>\n",
              "    <tr>\n",
              "      <th>0</th>\n",
              "      <td>SBAC</td>\n",
              "      <td>SBFZ</td>\n",
              "      <td>CE</td>\n",
              "      <td>NORDESTE</td>\n",
              "      <td>CE</td>\n",
              "      <td>NORDESTE</td>\n",
              "      <td>720.0</td>\n",
              "      <td>2</td>\n",
              "      <td>0</td>\n",
              "      <td>0</td>\n",
              "      <td>2</td>\n",
              "      <td>2</td>\n",
              "      <td>2</td>\n",
              "      <td>SBAC</td>\n",
              "      <td>-37.804722, -4.568611</td>\n",
              "      <td>SBFZ</td>\n",
              "      <td>-38.53260040283203, -3.776279926300049</td>\n",
              "    </tr>\n",
              "    <tr>\n",
              "      <th>1</th>\n",
              "      <td>SBBE</td>\n",
              "      <td>SBFZ</td>\n",
              "      <td>PA</td>\n",
              "      <td>NORTE</td>\n",
              "      <td>CE</td>\n",
              "      <td>NORDESTE</td>\n",
              "      <td>78384.0</td>\n",
              "      <td>19</td>\n",
              "      <td>7</td>\n",
              "      <td>0</td>\n",
              "      <td>26</td>\n",
              "      <td>26</td>\n",
              "      <td>26</td>\n",
              "      <td>SBBE</td>\n",
              "      <td>-48.4762992859, -1.3792500495900002</td>\n",
              "      <td>SBFZ</td>\n",
              "      <td>-38.53260040283203, -3.776279926300049</td>\n",
              "    </tr>\n",
              "    <tr>\n",
              "      <th>2</th>\n",
              "      <td>SBBR</td>\n",
              "      <td>SBFZ</td>\n",
              "      <td>DF</td>\n",
              "      <td>CENTRO-OESTE</td>\n",
              "      <td>CE</td>\n",
              "      <td>NORDESTE</td>\n",
              "      <td>203040.0</td>\n",
              "      <td>22</td>\n",
              "      <td>11</td>\n",
              "      <td>2</td>\n",
              "      <td>33</td>\n",
              "      <td>33</td>\n",
              "      <td>35</td>\n",
              "      <td>SBBR</td>\n",
              "      <td>-47.920834, -15.869167</td>\n",
              "      <td>SBFZ</td>\n",
              "      <td>-38.53260040283203, -3.776279926300049</td>\n",
              "    </tr>\n",
              "    <tr>\n",
              "      <th>3</th>\n",
              "      <td>SBCF</td>\n",
              "      <td>SBFZ</td>\n",
              "      <td>MG</td>\n",
              "      <td>SUDESTE</td>\n",
              "      <td>CE</td>\n",
              "      <td>NORDESTE</td>\n",
              "      <td>59456.0</td>\n",
              "      <td>17</td>\n",
              "      <td>16</td>\n",
              "      <td>0</td>\n",
              "      <td>33</td>\n",
              "      <td>33</td>\n",
              "      <td>33</td>\n",
              "      <td>SBCF</td>\n",
              "      <td>-43.97194290161133, -19.62444305419922</td>\n",
              "      <td>SBFZ</td>\n",
              "      <td>-38.53260040283203, -3.776279926300049</td>\n",
              "    </tr>\n",
              "    <tr>\n",
              "      <th>4</th>\n",
              "      <td>SBCT</td>\n",
              "      <td>SBFZ</td>\n",
              "      <td>PR</td>\n",
              "      <td>SUL</td>\n",
              "      <td>CE</td>\n",
              "      <td>NORDESTE</td>\n",
              "      <td>2673.0</td>\n",
              "      <td>0</td>\n",
              "      <td>2</td>\n",
              "      <td>0</td>\n",
              "      <td>2</td>\n",
              "      <td>2</td>\n",
              "      <td>2</td>\n",
              "      <td>SBCT</td>\n",
              "      <td>-49.1758003235, -25.5284996033</td>\n",
              "      <td>SBFZ</td>\n",
              "      <td>-38.53260040283203, -3.776279926300049</td>\n",
              "    </tr>\n",
              "    <tr>\n",
              "      <th>...</th>\n",
              "      <td>...</td>\n",
              "      <td>...</td>\n",
              "      <td>...</td>\n",
              "      <td>...</td>\n",
              "      <td>...</td>\n",
              "      <td>...</td>\n",
              "      <td>...</td>\n",
              "      <td>...</td>\n",
              "      <td>...</td>\n",
              "      <td>...</td>\n",
              "      <td>...</td>\n",
              "      <td>...</td>\n",
              "      <td>...</td>\n",
              "      <td>...</td>\n",
              "      <td>...</td>\n",
              "      <td>...</td>\n",
              "      <td>...</td>\n",
              "    </tr>\n",
              "    <tr>\n",
              "      <th>1798</th>\n",
              "      <td>SBSP</td>\n",
              "      <td>SDIM</td>\n",
              "      <td>SP</td>\n",
              "      <td>SUDESTE</td>\n",
              "      <td>SP</td>\n",
              "      <td>SUDESTE</td>\n",
              "      <td>610.0</td>\n",
              "      <td>1</td>\n",
              "      <td>0</td>\n",
              "      <td>0</td>\n",
              "      <td>1</td>\n",
              "      <td>1</td>\n",
              "      <td>1</td>\n",
              "      <td>SBSP</td>\n",
              "      <td>-46.65638732910156, -23.626110076904297</td>\n",
              "      <td>SDIM</td>\n",
              "      <td>-46.78555679321289, -24.164722442626953</td>\n",
              "    </tr>\n",
              "    <tr>\n",
              "      <th>1799</th>\n",
              "      <td>SBSP</td>\n",
              "      <td>SDUB</td>\n",
              "      <td>SP</td>\n",
              "      <td>SUDESTE</td>\n",
              "      <td>SP</td>\n",
              "      <td>SUDESTE</td>\n",
              "      <td>1944.0</td>\n",
              "      <td>1</td>\n",
              "      <td>0</td>\n",
              "      <td>0</td>\n",
              "      <td>1</td>\n",
              "      <td>1</td>\n",
              "      <td>1</td>\n",
              "      <td>SBSP</td>\n",
              "      <td>-46.65638732910156, -23.626110076904297</td>\n",
              "      <td>SDUB</td>\n",
              "      <td>-45.075599670410156, -23.441099166870117</td>\n",
              "    </tr>\n",
              "    <tr>\n",
              "      <th>1800</th>\n",
              "      <td>SBSP</td>\n",
              "      <td>SJTC</td>\n",
              "      <td>SP</td>\n",
              "      <td>SUDESTE</td>\n",
              "      <td>SP</td>\n",
              "      <td>SUDESTE</td>\n",
              "      <td>8584.0</td>\n",
              "      <td>3</td>\n",
              "      <td>0</td>\n",
              "      <td>0</td>\n",
              "      <td>3</td>\n",
              "      <td>3</td>\n",
              "      <td>3</td>\n",
              "      <td>SBSP</td>\n",
              "      <td>-46.65638732910156, -23.626110076904297</td>\n",
              "      <td>SJTC</td>\n",
              "      <td>-55.926764, -22.249873</td>\n",
              "    </tr>\n",
              "    <tr>\n",
              "      <th>1801</th>\n",
              "      <td>SBSP</td>\n",
              "      <td>SNBA</td>\n",
              "      <td>SP</td>\n",
              "      <td>SUDESTE</td>\n",
              "      <td>SP</td>\n",
              "      <td>SUDESTE</td>\n",
              "      <td>18078.0</td>\n",
              "      <td>3</td>\n",
              "      <td>0</td>\n",
              "      <td>0</td>\n",
              "      <td>3</td>\n",
              "      <td>3</td>\n",
              "      <td>3</td>\n",
              "      <td>SBSP</td>\n",
              "      <td>-46.65638732910156, -23.626110076904297</td>\n",
              "      <td>SNBA</td>\n",
              "      <td>-48.594100952148, -20.584499359131</td>\n",
              "    </tr>\n",
              "    <tr>\n",
              "      <th>1802</th>\n",
              "      <td>SBSV</td>\n",
              "      <td>SBQV</td>\n",
              "      <td>BA</td>\n",
              "      <td>NORDESTE</td>\n",
              "      <td>BA</td>\n",
              "      <td>NORDESTE</td>\n",
              "      <td>17500.0</td>\n",
              "      <td>4</td>\n",
              "      <td>0</td>\n",
              "      <td>0</td>\n",
              "      <td>4</td>\n",
              "      <td>4</td>\n",
              "      <td>4</td>\n",
              "      <td>SBSV</td>\n",
              "      <td>-38.3224983215, -12.9086112976</td>\n",
              "      <td>SBQV</td>\n",
              "      <td>-40.863098, -14.8628</td>\n",
              "    </tr>\n",
              "  </tbody>\n",
              "</table>\n",
              "<p>1803 rows × 17 columns</p>\n",
              "</div>"
            ],
            "text/plain": [
              "     AEROPORTO DE ORIGEM (SIGLA)  ...                       COORDENADAS_DESTINO\n",
              "0                           SBAC  ...    -38.53260040283203, -3.776279926300049\n",
              "1                           SBBE  ...    -38.53260040283203, -3.776279926300049\n",
              "2                           SBBR  ...    -38.53260040283203, -3.776279926300049\n",
              "3                           SBCF  ...    -38.53260040283203, -3.776279926300049\n",
              "4                           SBCT  ...    -38.53260040283203, -3.776279926300049\n",
              "...                          ...  ...                                       ...\n",
              "1798                        SBSP  ...   -46.78555679321289, -24.164722442626953\n",
              "1799                        SBSP  ...  -45.075599670410156, -23.441099166870117\n",
              "1800                        SBSP  ...                    -55.926764, -22.249873\n",
              "1801                        SBSP  ...        -48.594100952148, -20.584499359131\n",
              "1802                        SBSV  ...                      -40.863098, -14.8628\n",
              "\n",
              "[1803 rows x 17 columns]"
            ]
          },
          "metadata": {
            "tags": []
          },
          "execution_count": 19
        }
      ]
    },
    {
      "cell_type": "code",
      "metadata": {
        "id": "nipdt2dEMoqw"
      },
      "source": [
        "dados_final = dados_final.drop( ['gps_code_x', 'gps_code_y'], axis=1 )"
      ],
      "execution_count": 20,
      "outputs": []
    },
    {
      "cell_type": "code",
      "metadata": {
        "id": "v7o0ov8MNGUf"
      },
      "source": [
        "dados_final['LAT_ORIGEM']  = dados_final['COORDENADAS_ORIGEM'].apply( lambda x: float(x.split(',')[0]) )\n",
        "dados_final['LONG_ORIGEM']  = dados_final['COORDENADAS_ORIGEM'].apply( lambda x: float(x.split(',')[1]) )\n",
        "dados_final = dados_final.drop( ['COORDENADAS_ORIGEM'], axis=1 )\n",
        "\n",
        "dados_final['LAT_DESTINO']  = dados_final['COORDENADAS_DESTINO'].apply( lambda x: float(x.split(',')[0]) )\n",
        "dados_final['LONG_DESTINO']  = dados_final['COORDENADAS_DESTINO'].apply( lambda x: float(x.split(',')[1]) )\n",
        "dados_final = dados_final.drop( ['COORDENADAS_DESTINO'], axis=1 )"
      ],
      "execution_count": 21,
      "outputs": []
    },
    {
      "cell_type": "markdown",
      "metadata": {
        "id": "zyVoBZ0yUNb3"
      },
      "source": [
        "**Renomeando colunas para caracteres ASCII e removendo espaços**"
      ]
    },
    {
      "cell_type": "markdown",
      "metadata": {
        "id": "07aWnHAMUxIN"
      },
      "source": [
        "https://stackoverflow.com/questions/517923/what-is-the-best-way-to-remove-accents-normalize-in-a-python-unicode-string"
      ]
    },
    {
      "cell_type": "code",
      "metadata": {
        "id": "5rxbxy0sURFm"
      },
      "source": [
        "import unicodedata\n",
        "\n",
        "def fix_columns_name(s):\n",
        "   return ''.join(c for c in unicodedata.normalize('NFD', s)\n",
        "                  if unicodedata.category(c) != 'Mn').replace(' ', '_').replace('(', '').replace(')', '')"
      ],
      "execution_count": 22,
      "outputs": []
    },
    {
      "cell_type": "code",
      "metadata": {
        "id": "Ks6_idj-U052"
      },
      "source": [
        "dados_final = dados_final.rename( columns= { col:fix_columns_name(col) for col in dados_final.columns } )"
      ],
      "execution_count": 23,
      "outputs": []
    },
    {
      "cell_type": "markdown",
      "metadata": {
        "id": "tl6IeulUW-vf"
      },
      "source": [
        "**Removendo valores NaN**"
      ]
    },
    {
      "cell_type": "code",
      "metadata": {
        "id": "jq21FA8RXAot",
        "colab": {
          "base_uri": "https://localhost:8080/"
        },
        "outputId": "31d33383-526e-434d-88d6-2b90add1d78f"
      },
      "source": [
        "print( f\"Tamanho original - {len(dados_final)}\" )\n",
        "dados_final = dados_final.dropna()\n",
        "print( f\"Tamanho final - {len(dados_final)}\" )"
      ],
      "execution_count": 24,
      "outputs": [
        {
          "output_type": "stream",
          "text": [
            "Tamanho original - 1803\n",
            "Tamanho final - 1684\n"
          ],
          "name": "stdout"
        }
      ]
    },
    {
      "cell_type": "markdown",
      "metadata": {
        "id": "OybLIGHjNkPv"
      },
      "source": [
        "**Resultado Final**"
      ]
    },
    {
      "cell_type": "code",
      "metadata": {
        "id": "4Nd8wBWWNdCX",
        "colab": {
          "base_uri": "https://localhost:8080/",
          "height": 226
        },
        "outputId": "00b5f866-cb84-4f7d-f0e9-ac6a2944130e"
      },
      "source": [
        "dados_final.head()"
      ],
      "execution_count": 25,
      "outputs": [
        {
          "output_type": "execute_result",
          "data": {
            "text/html": [
              "<div>\n",
              "<style scoped>\n",
              "    .dataframe tbody tr th:only-of-type {\n",
              "        vertical-align: middle;\n",
              "    }\n",
              "\n",
              "    .dataframe tbody tr th {\n",
              "        vertical-align: top;\n",
              "    }\n",
              "\n",
              "    .dataframe thead th {\n",
              "        text-align: right;\n",
              "    }\n",
              "</style>\n",
              "<table border=\"1\" class=\"dataframe\">\n",
              "  <thead>\n",
              "    <tr style=\"text-align: right;\">\n",
              "      <th></th>\n",
              "      <th>AEROPORTO_DE_ORIGEM_SIGLA</th>\n",
              "      <th>AEROPORTO_DE_DESTINO_SIGLA</th>\n",
              "      <th>AEROPORTO_DE_ORIGEM_UF</th>\n",
              "      <th>AEROPORTO_DE_ORIGEM_REGIAO</th>\n",
              "      <th>AEROPORTO_DE_DESTINO_UF</th>\n",
              "      <th>AEROPORTO_DE_DESTINO_REGIAO</th>\n",
              "      <th>DISTANCIA_VOADA_KM</th>\n",
              "      <th>VOO_REGULAR</th>\n",
              "      <th>VOO_NAO_REGULAR</th>\n",
              "      <th>IMPRODUTIVO</th>\n",
              "      <th>EMPRESA_NACIONAL</th>\n",
              "      <th>NATUREZA_DOMESTICA</th>\n",
              "      <th>VOOS</th>\n",
              "      <th>LAT_ORIGEM</th>\n",
              "      <th>LONG_ORIGEM</th>\n",
              "      <th>LAT_DESTINO</th>\n",
              "      <th>LONG_DESTINO</th>\n",
              "    </tr>\n",
              "  </thead>\n",
              "  <tbody>\n",
              "    <tr>\n",
              "      <th>0</th>\n",
              "      <td>SBAC</td>\n",
              "      <td>SBFZ</td>\n",
              "      <td>CE</td>\n",
              "      <td>NORDESTE</td>\n",
              "      <td>CE</td>\n",
              "      <td>NORDESTE</td>\n",
              "      <td>720.0</td>\n",
              "      <td>2</td>\n",
              "      <td>0</td>\n",
              "      <td>0</td>\n",
              "      <td>2</td>\n",
              "      <td>2</td>\n",
              "      <td>2</td>\n",
              "      <td>-37.804722</td>\n",
              "      <td>-4.568611</td>\n",
              "      <td>-38.5326</td>\n",
              "      <td>-3.77628</td>\n",
              "    </tr>\n",
              "    <tr>\n",
              "      <th>1</th>\n",
              "      <td>SBBE</td>\n",
              "      <td>SBFZ</td>\n",
              "      <td>PA</td>\n",
              "      <td>NORTE</td>\n",
              "      <td>CE</td>\n",
              "      <td>NORDESTE</td>\n",
              "      <td>78384.0</td>\n",
              "      <td>19</td>\n",
              "      <td>7</td>\n",
              "      <td>0</td>\n",
              "      <td>26</td>\n",
              "      <td>26</td>\n",
              "      <td>26</td>\n",
              "      <td>-48.476299</td>\n",
              "      <td>-1.379250</td>\n",
              "      <td>-38.5326</td>\n",
              "      <td>-3.77628</td>\n",
              "    </tr>\n",
              "    <tr>\n",
              "      <th>2</th>\n",
              "      <td>SBBR</td>\n",
              "      <td>SBFZ</td>\n",
              "      <td>DF</td>\n",
              "      <td>CENTRO-OESTE</td>\n",
              "      <td>CE</td>\n",
              "      <td>NORDESTE</td>\n",
              "      <td>203040.0</td>\n",
              "      <td>22</td>\n",
              "      <td>11</td>\n",
              "      <td>2</td>\n",
              "      <td>33</td>\n",
              "      <td>33</td>\n",
              "      <td>35</td>\n",
              "      <td>-47.920834</td>\n",
              "      <td>-15.869167</td>\n",
              "      <td>-38.5326</td>\n",
              "      <td>-3.77628</td>\n",
              "    </tr>\n",
              "    <tr>\n",
              "      <th>3</th>\n",
              "      <td>SBCF</td>\n",
              "      <td>SBFZ</td>\n",
              "      <td>MG</td>\n",
              "      <td>SUDESTE</td>\n",
              "      <td>CE</td>\n",
              "      <td>NORDESTE</td>\n",
              "      <td>59456.0</td>\n",
              "      <td>17</td>\n",
              "      <td>16</td>\n",
              "      <td>0</td>\n",
              "      <td>33</td>\n",
              "      <td>33</td>\n",
              "      <td>33</td>\n",
              "      <td>-43.971943</td>\n",
              "      <td>-19.624443</td>\n",
              "      <td>-38.5326</td>\n",
              "      <td>-3.77628</td>\n",
              "    </tr>\n",
              "    <tr>\n",
              "      <th>4</th>\n",
              "      <td>SBCT</td>\n",
              "      <td>SBFZ</td>\n",
              "      <td>PR</td>\n",
              "      <td>SUL</td>\n",
              "      <td>CE</td>\n",
              "      <td>NORDESTE</td>\n",
              "      <td>2673.0</td>\n",
              "      <td>0</td>\n",
              "      <td>2</td>\n",
              "      <td>0</td>\n",
              "      <td>2</td>\n",
              "      <td>2</td>\n",
              "      <td>2</td>\n",
              "      <td>-49.175800</td>\n",
              "      <td>-25.528500</td>\n",
              "      <td>-38.5326</td>\n",
              "      <td>-3.77628</td>\n",
              "    </tr>\n",
              "  </tbody>\n",
              "</table>\n",
              "</div>"
            ],
            "text/plain": [
              "  AEROPORTO_DE_ORIGEM_SIGLA  ... LONG_DESTINO\n",
              "0                      SBAC  ...     -3.77628\n",
              "1                      SBBE  ...     -3.77628\n",
              "2                      SBBR  ...     -3.77628\n",
              "3                      SBCF  ...     -3.77628\n",
              "4                      SBCT  ...     -3.77628\n",
              "\n",
              "[5 rows x 17 columns]"
            ]
          },
          "metadata": {
            "tags": []
          },
          "execution_count": 25
        }
      ]
    },
    {
      "cell_type": "markdown",
      "metadata": {
        "id": "0jow_8ROG54q"
      },
      "source": [
        "## Construindo o Grafo com o NetworkX"
      ]
    },
    {
      "cell_type": "markdown",
      "metadata": {
        "id": "oVb5_ZepebmE"
      },
      "source": [
        "A partir desse ponto, já podemos consturir nosso grafo com o NetworkX."
      ]
    },
    {
      "cell_type": "markdown",
      "metadata": {
        "id": "fzN5Lybj4yYP"
      },
      "source": [
        "**Adicionando as conexões entre os nós**"
      ]
    },
    {
      "cell_type": "code",
      "metadata": {
        "id": "YbrfXfBpHYhC"
      },
      "source": [
        "import networkx as nx\n",
        "from pprint import pprint"
      ],
      "execution_count": 26,
      "outputs": []
    },
    {
      "cell_type": "code",
      "metadata": {
        "id": "0euM5p1VI3SA"
      },
      "source": [
        "graph_voos = nx.from_pandas_edgelist(dados_final,  \n",
        "                                     source ='AEROPORTO_DE_ORIGEM_SIGLA',\n",
        "                                     target ='AEROPORTO_DE_DESTINO_SIGLA',\n",
        "                                     edge_attr = ['DISTANCIA_VOADA_KM', 'VOO_REGULAR', 'VOO_NAO_REGULAR',\n",
        "                                                  'IMPRODUTIVO', 'EMPRESA_NACIONAL', 'NATUREZA_DOMESTICA', 'VOOS'],\n",
        "                                     create_using = nx.DiGraph())"
      ],
      "execution_count": 27,
      "outputs": []
    },
    {
      "cell_type": "markdown",
      "metadata": {
        "id": "mA0rvre242aX"
      },
      "source": [
        "**Adicionando os atributos dos nós**"
      ]
    },
    {
      "cell_type": "markdown",
      "metadata": {
        "id": "Pl4iWu-F7s5O"
      },
      "source": [
        "Formatando adequadamente o nome das colunas"
      ]
    },
    {
      "cell_type": "code",
      "metadata": {
        "id": "5_mzHF6M44eg"
      },
      "source": [
        "cols = dados_final.columns\n",
        "dados_origem = dados_final[ [ col for col in cols if 'ORIGEM' in col ] ]\n",
        "dados_origem = dados_origem.rename( columns={ col:col.replace('AEROPORTO_DE_ORIGEM_','') for col in dados_origem.columns } )\n",
        "dados_origem = dados_origem.rename( columns={ col:col.replace('_ORIGEM','') for col in dados_origem.columns } )\n",
        "\n",
        "dados_destino = dados_final[ [ col for col in cols if 'DESTINO' in col ] ]\n",
        "dados_destino = dados_destino.rename( columns={ col:col.replace('AEROPORTO_DE_DESTINO_','') for col in dados_destino.columns } )\n",
        "dados_destino = dados_destino.rename( columns={ col:col.replace('_DESTINO','') for col in dados_destino.columns } )"
      ],
      "execution_count": 28,
      "outputs": []
    },
    {
      "cell_type": "code",
      "metadata": {
        "id": "2H_3WjO97x6m"
      },
      "source": [
        "dados_aeroportos = pd.concat( [ dados_origem,  dados_destino] )\n",
        "dados_aeroportos = dados_aeroportos.drop_duplicates( 'SIGLA' )\n",
        "dados_aeroportos = dados_aeroportos.set_index('SIGLA')\n",
        "dados_aeroportos = dados_aeroportos.to_dict('index')"
      ],
      "execution_count": 29,
      "outputs": []
    },
    {
      "cell_type": "code",
      "metadata": {
        "id": "HSbctFzS8hP-"
      },
      "source": [
        "nx.set_node_attributes( graph_voos, dados_aeroportos )"
      ],
      "execution_count": 30,
      "outputs": []
    },
    {
      "cell_type": "markdown",
      "metadata": {
        "id": "fXvwzQOKX3f1"
      },
      "source": [
        "**Visualizando dados**"
      ]
    },
    {
      "cell_type": "code",
      "metadata": {
        "id": "cRejf0txQC63",
        "colab": {
          "base_uri": "https://localhost:8080/"
        },
        "outputId": "d35668fb-9cb9-4b3a-c6e4-5942e8c4b16b"
      },
      "source": [
        "graph_voos.nodes"
      ],
      "execution_count": 31,
      "outputs": [
        {
          "output_type": "execute_result",
          "data": {
            "text/plain": [
              "NodeView(('SBAC', 'SBFZ', 'SBBE', 'SBBR', 'SBCF', 'SBCT', 'SBEG', 'SBGL', 'SBGO', 'SBGR', 'SBJE', 'SBJU', 'SBKP', 'SBMO', 'SBPA', 'SBPL', 'SBRF', 'SBRJ', 'SBSG', 'SBSL', 'SBSN', 'SBSP', 'SBSV', 'SBTC', 'SBTE', 'SBVT', 'SDSC', 'SDZG', 'SNIG', 'SNOB', 'SNWS', 'SWBE', 'SBAE', 'SBAQ', 'SBAR', 'SBAT', 'SBAU', 'SBBH', 'SBBV', 'SBCA', 'SBCB', 'SBCG', 'SBCH', 'SBCJ', 'SBCN', 'SBCR', 'SBCX', 'SBCY', 'SBDB', 'SBDN', 'SBDO', 'SBFI', 'SBFL', 'SBIL', 'SBIZ', 'SBJA', 'SBJD', 'SBJI', 'SBJP', 'SBJV', 'SBLO', 'SBMA', 'SBMG', 'SBMK', 'SBML', 'SBMQ', 'SBNF', 'SBPB', 'SBPF', 'SBPG', 'SBPJ', 'SBPS', 'SBPV', 'SBRB', 'SBRD', 'SBRP', 'SBSI', 'SBSJ', 'SBSR', 'SBTG', 'SBUL', 'SBVH', 'SBZM', 'SDCO', 'SSKW', 'SWLC', 'SBBU', 'SBCP', 'SBME', 'SDAG', 'SBKG', 'SBUR', 'SBJR', 'SDIM', 'SDTK', 'SDUB', 'SIMK', 'SJTC', 'SNBA', 'SBQV', 'SBSO', 'SNBR', 'SWGN', 'SBAX', 'SBGV', 'SBIP', 'SBVG', 'SNGA', 'SNPD', 'SNTF', 'SNVB', 'SBLJ', 'SBPO', 'SBTD', 'SSCT', 'SSFB', 'SSGY', 'SSKM', 'SSOG', 'SSPG', 'SSPI', 'SSUV', 'SSVL', 'SBBW', 'SBNT', 'SNTS', 'SBFN', 'SBMS', 'SBUF', 'SNAT', 'SNHS', 'SNRU', 'SNSG', 'SBLE', 'SDNM', 'SILC', 'SIZX', 'SJHG', 'SSOU', 'SWBG', 'SWCA', 'SWEK', 'SWHP', 'SWJN', 'SWPY', 'SWTS', 'SBHT', 'SBIH', 'SBTB', 'SBTF', 'SBTT', 'SBUA', 'SBUY', 'SWEI', 'SWFN', 'SWKO', 'SWLB', 'SWMW', 'SWPI', 'SBMD', 'SBTU', 'SISO', 'SNDC', 'SNEB', 'SNMZ', 'SNVS', 'SNYA', 'SNMA', 'SNRJ', 'SBJC', 'SBMT', 'SDPA', 'SBBG', 'SBNM', 'SBPK', 'SBSM', 'SBUG', 'SJRG', 'SSCN', 'SSSB', 'SSZR', 'SDAM', 'SNOX', 'SNTI', 'SBCZ', 'SSCP', 'SWFX', 'SWRF', 'SDWQ'))"
            ]
          },
          "metadata": {
            "tags": []
          },
          "execution_count": 31
        }
      ]
    },
    {
      "cell_type": "code",
      "metadata": {
        "id": "fVkDoWbtQwF3",
        "colab": {
          "base_uri": "https://localhost:8080/"
        },
        "outputId": "0f4bb352-b5d9-428c-bbf4-4721fc9fc377"
      },
      "source": [
        "graph_voos.is_directed()"
      ],
      "execution_count": 32,
      "outputs": [
        {
          "output_type": "execute_result",
          "data": {
            "text/plain": [
              "True"
            ]
          },
          "metadata": {
            "tags": []
          },
          "execution_count": 32
        }
      ]
    },
    {
      "cell_type": "markdown",
      "metadata": {
        "id": "zZi_6gx5TkvP"
      },
      "source": [
        "## Salvando o grafo"
      ]
    },
    {
      "cell_type": "markdown",
      "metadata": {
        "id": "isixDsx1Xvke"
      },
      "source": [
        "**Salvando gml**"
      ]
    },
    {
      "cell_type": "code",
      "metadata": {
        "id": "eag0KvSeQzl9"
      },
      "source": [
        "nx.write_gml(graph_voos, 'graph_br_flights.gml.gz')"
      ],
      "execution_count": 33,
      "outputs": []
    },
    {
      "cell_type": "markdown",
      "metadata": {
        "id": "OfEyA3HPXzfs"
      },
      "source": [
        "**Testando arquivo**"
      ]
    },
    {
      "cell_type": "code",
      "metadata": {
        "id": "ms_Rf71RWtqt"
      },
      "source": [
        "g = nx.read_gml('graph_br_flights.gml.gz')"
      ],
      "execution_count": 34,
      "outputs": []
    },
    {
      "cell_type": "markdown",
      "metadata": {
        "id": "K2EKa02MX8ZN"
      },
      "source": [
        "## Resumo final do grafo"
      ]
    },
    {
      "cell_type": "markdown",
      "metadata": {
        "id": "xk6iJ6bbX-hM"
      },
      "source": [
        "Este notebook construiu um grafo Dirigido contendo informações de voos que ocorreram nos aeroportos brasileiros de 2000 a 2020."
      ]
    },
    {
      "cell_type": "markdown",
      "metadata": {
        "id": "LuuMOtbmYIf9"
      },
      "source": [
        "Abaixo, uma lista das variáveis das arestas do grafo.\n",
        "\t\n",
        "- **DISTANCIA_VOADA_KM**\t: Distância entre origem e destino\n",
        "- **VOOS** - Quantidade voos feitos entre os aeroportos\n",
        "- **VOO_REGULAR**\t: Quantidade de voos regulares feitas entre os aeroportos\n",
        "- **VOO_NAO_REGULAR**\t: Quantidade de voos não regulares feitas entre os aeroportos\n",
        "- **IMPRODUTIVO**\t: Quantidade de voos improdutivos feitas entre os aeroportos\n",
        "- **EMPRESA_NACIONAL**\t: Quantidade de voos de empresa nacional\n",
        "- **NATUREZA_DOMESTICA**\t: Quantidade de voos de natureza doméstica"
      ]
    }
  ]
}